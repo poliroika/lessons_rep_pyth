{
  "cells": [
    {
      "cell_type": "markdown",
      "metadata": {
        "id": "-Pmk_A7X0i9E"
      },
      "source": [
        "# Введение\n",
        "\n",
        "## Python Programming Language\n",
        "\n",
        "- Самый важный навык для компьютерщика - решение проблем\n",
        "- Python - это инструмент, который помогает компьютерщикам и программистам решать проблемы путем написания кода\n",
        "- Один из самых популярных языков программирования, используемый в различных областях: Data Science и машинное обучение, безопасность, веб-приложения и т.д.\n",
        "- Популярность Python растет с годами: https://www.tiobe.com/tiobe-index/.\n"
      ]
    },
    {
      "cell_type": "markdown",
      "metadata": {
        "id": "JO-MFQbB0i9G"
      },
      "source": [
        "## Python Особенности\n",
        "- высокоуровневый язык программирования общего назначения, такой как PHP, Perl, Java, JavaScript, C++ и др.\n",
        "    - в отличие от машинного языка низкого уровня, такого как ассемблер\n",
        "- интерпретируемый язык; для выполнения кода Python требуется интерпретатор Python\n",
        "- независимость от платформы/портативность; программы на Python можно запускать на многих платформах, включая Raspberry Pi\n",
        "- открытый исходный код, можно свободно скачивать и использовать: http://python.org\n",
        "- устанавливается с помощью менеджера пакетов Python, например Anaconda или Miniconda: https://www.anaconda.com/download/\n",
        "- две версии Python 2.x и Python 3.x - блокноты и текст используют версию 3.x, которая является новым стандартом"
      ]
    },
    {
      "cell_type": "markdown",
      "metadata": {
        "id": "8gRa1G2y0i9G"
      },
      "source": [
        "## Дзен Python\n",
        "\n",
        "- Питонец Тим Питерс лаконично изложил руководящие принципы разработки Python, сформулированные Беневольным диктатором на всю жизнь (BDFL), в 20 афоризмах, из которых только 19 были записаны.\n",
        "- Python Enhancement Proposal (PEP) 20 : https://www.python.org/dev/peps/pep-0020/ описывает дзен.\n",
        "- следующее утверждение скрыто как пасхальное яйцо, которое описывает дзен"
      ]
    },
    {
      "cell_type": "code",
      "execution_count": null,
      "metadata": {
        "colab": {
          "base_uri": "https://localhost:8080/"
        },
        "id": "pKujimeN0i9H",
        "outputId": "a2a4a469-edb9-4038-a463-9e228b32b53f"
      },
      "outputs": [
        {
          "output_type": "stream",
          "name": "stdout",
          "text": [
            "The Zen of Python, by Tim Peters\n",
            "\n",
            "Beautiful is better than ugly.\n",
            "Explicit is better than implicit.\n",
            "Simple is better than complex.\n",
            "Complex is better than complicated.\n",
            "Flat is better than nested.\n",
            "Sparse is better than dense.\n",
            "Readability counts.\n",
            "Special cases aren't special enough to break the rules.\n",
            "Although practicality beats purity.\n",
            "Errors should never pass silently.\n",
            "Unless explicitly silenced.\n",
            "In the face of ambiguity, refuse the temptation to guess.\n",
            "There should be one-- and preferably only one --obvious way to do it.\n",
            "Although that way may not be obvious at first unless you're Dutch.\n",
            "Now is better than never.\n",
            "Although never is often better than *right* now.\n",
            "If the implementation is hard to explain, it's a bad idea.\n",
            "If the implementation is easy to explain, it may be a good idea.\n",
            "Namespaces are one honking great idea -- let's do more of those!\n"
          ]
        }
      ],
      "source": [
        "import this"
      ]
    },
    {
      "cell_type": "markdown",
      "metadata": {
        "id": "6YsdBHnn0i9I"
      },
      "source": [
        "## Компьютерная программа(Computer Program)\n",
        "- Последовательность инструкций, определяющая, как выполнить вычисления\n",
        "- некоторые базовые/фундаментальные понятия, из которых состоит компьютерная программа:\n",
        "    - переменные, ввод, вывод, математика, условное выполнение и повторение\n",
        "\n",
        "### переменные(variables)\n",
        "- место в памяти, где могут храниться данные/значения\n",
        "\n",
        "### ввод(input)\n",
        "- получение данных с клавиатуры, из файла или какого-либо устройства\n",
        "\n",
        "### вывод(output)\n",
        "- вывести данные/ответ на экран, сохранить их в файл или на устройство\n",
        "\n",
        "### математика(math)\n",
        "- основные математические операции, такие как сложение, вычитание, умножение и т. д.\n",
        "\n",
        "### условное выполнение(conditional execution)\n",
        "- проверка наличия определенных условий и выполнение соответствующей последовательности операторов\n",
        "\n",
        "### повторение(repitition)\n",
        "- многократное выполнение какого-либо действия, обычно с некоторыми изменениями каждый раз"
      ]
    },
    {
      "cell_type": "markdown",
      "metadata": {
        "id": "VHdrzYQx0i9I"
      },
      "source": [
        "## Debugging\n",
        " - поиск и устранение ошибок/недочетов\n",
        " - Пока люди пишут компьютерные коды, в компьютерных программах всегда будут ошибки.\n",
        " - Несмотря на то, что временами это досадно, это одна из самых интеллектуально насыщенных, сложных и интересных частей программирования"
      ]
    },
    {
      "cell_type": "markdown",
      "metadata": {
        "id": "DQEvNpkx0i9J"
      },
      "source": [
        "## Coding Errors\n",
        "- Ошибки также называют багами\n",
        "- 3 типа: синтаксические, временные и семантические\n",
        "\n",
        "### Syntax errors\n",
        "- программа должна следовать синтаксису или грамматике Python\n",
        "- Интерпретатор Python указывает на любую синтаксическую ошибку, когда человек пытается запустить программу\n",
        "- невозможно запустить программу, если в ней есть синтаксические ошибки"
      ]
    },
    {
      "cell_type": "markdown",
      "metadata": {
        "id": "cGomOPSC0i9J"
      },
      "source": [
        "### Run-time errors\n",
        "- также называемые исключениями времени выполнения\n",
        "- Эти ошибки могут появиться во время выполнения программы при определенном сценарии\n",
        "- могут быть устранены в определенной степени с помощью адекватного тестирования\n",
        "\n",
        "### Semantic errors\n",
        "- программа работает нормально, но выдает неправильный ответ\n",
        "- также называемые логическими ошибками, которые возникают, когда программисты могут неправильно понимать кварки языка, постановку задачи или просто неверное решение\n",
        "- могут быть выявлены и устранены с помощью адекватного тестирования"
      ]
    },
    {
      "cell_type": "markdown",
      "metadata": {
        "id": "eTr5US1q0i9J"
      },
      "source": [
        " ## The First Python Program\n",
        " - Программы на python обычно называют скриптами\n",
        " - Традиционно Hello World - это первая программа, которую пишут для изучения языка"
      ]
    },
    {
      "cell_type": "code",
      "execution_count": null,
      "metadata": {
        "id": "Tqr0Oeq50i9J",
        "outputId": "23f3e839-1d69-4292-a71d-e644b50b4ff6"
      },
      "outputs": [
        {
          "name": "stdout",
          "output_type": "stream",
          "text": [
            "Hello World!\n"
          ]
        }
      ],
      "source": [
        "# hello world program\n",
        "print('Hello World!')"
      ]
    },
    {
      "cell_type": "code",
      "source": [],
      "metadata": {
        "id": "ODE-AgMfEbVu"
      },
      "execution_count": null,
      "outputs": []
    },
    {
      "cell_type": "code",
      "source": [
        "word = input()\n",
        "print(word)"
      ],
      "metadata": {
        "colab": {
          "base_uri": "https://localhost:8080/"
        },
        "id": "v5VSv66uYwPW",
        "outputId": "cf356a06-41d1-4659-80cd-c9d58fa977f6"
      },
      "execution_count": null,
      "outputs": [
        {
          "output_type": "stream",
          "name": "stdout",
          "text": [
            "d23e\n",
            "d23e\n"
          ]
        }
      ]
    },
    {
      "cell_type": "code",
      "source": [
        "my_var = [10, 20, 30, 50, 100]\n",
        "print(my_var)"
      ],
      "metadata": {
        "id": "_oeC3B_5ZYu8"
      },
      "execution_count": null,
      "outputs": []
    },
    {
      "cell_type": "code",
      "source": [],
      "metadata": {
        "id": "ZMTX9MsGZeRf"
      },
      "execution_count": null,
      "outputs": []
    },
    {
      "cell_type": "code",
      "source": [
        "phrase = input(\"Введите строку: \")\n",
        "print(phrase)"
      ],
      "metadata": {
        "id": "wLQKcG7hZ3ZK"
      },
      "execution_count": null,
      "outputs": []
    },
    {
      "cell_type": "code",
      "source": [],
      "metadata": {
        "id": "k9Fg82q2Z_cx"
      },
      "execution_count": null,
      "outputs": []
    },
    {
      "cell_type": "code",
      "source": [
        "name = \"Пользователь\"\n",
        "print(\"Добрый день,\", name, \".\")"
      ],
      "metadata": {
        "id": "UuVixMYeZ-2A"
      },
      "execution_count": null,
      "outputs": []
    },
    {
      "cell_type": "code",
      "source": [
        "name = \"Пользователь\"\n",
        "print(\"Добрый день, \", name, \".\", sep=\"\")"
      ],
      "metadata": {
        "id": "-GtVadsVaByk"
      },
      "execution_count": null,
      "outputs": []
    },
    {
      "cell_type": "markdown",
      "source": [
        "# Виды переменных"
      ],
      "metadata": {
        "id": "1nmLw4AqZS9O"
      }
    },
    {
      "cell_type": "code",
      "source": [
        "type(5)"
      ],
      "metadata": {
        "colab": {
          "base_uri": "https://localhost:8080/"
        },
        "id": "pMaFdAFZZB0k",
        "outputId": "7455a913-09e5-44b6-b8bb-0aaeb0c15675"
      },
      "execution_count": null,
      "outputs": [
        {
          "output_type": "execute_result",
          "data": {
            "text/plain": [
              "int"
            ]
          },
          "metadata": {},
          "execution_count": 2
        }
      ]
    },
    {
      "cell_type": "code",
      "source": [
        "type('HELLO WORLD')"
      ],
      "metadata": {
        "colab": {
          "base_uri": "https://localhost:8080/"
        },
        "id": "oSlklpPKaXbE",
        "outputId": "bb9c9781-7e0d-4dfd-dfa3-3c0f15997aed"
      },
      "execution_count": null,
      "outputs": [
        {
          "output_type": "execute_result",
          "data": {
            "text/plain": [
              "str"
            ]
          },
          "metadata": {},
          "execution_count": 3
        }
      ]
    },
    {
      "cell_type": "code",
      "source": [
        "type(1.5)"
      ],
      "metadata": {
        "colab": {
          "base_uri": "https://localhost:8080/"
        },
        "id": "meAHP_QYabkX",
        "outputId": "368ae222-e10d-4bfa-edef-41aef50ffd88"
      },
      "execution_count": null,
      "outputs": [
        {
          "output_type": "execute_result",
          "data": {
            "text/plain": [
              "float"
            ]
          },
          "metadata": {},
          "execution_count": 4
        }
      ]
    },
    {
      "cell_type": "markdown",
      "source": [
        "\n",
        "### Numbers\n",
        "- Integer (int)\n",
        "- +/- целые числа: 199, -98, 0\n",
        "- Float\n",
        "- +/- действительные числа - числа с десятичной точкой: 99,99, -0,01\n",
        "\n",
        "\n",
        "### Strings\n",
        "- В Python для обозначения типа String используется аббревиатура **str**\n",
        "- строки - это один или несколько символов, представленных с использованием одинарных, двойных или тройных кавычек\n",
        "- в соответствии с PEP 8, используйте одинарные или двойные кавычки и будьте последовательны"
      ],
      "metadata": {
        "id": "VrqWNdBWbR0j"
      }
    },
    {
      "cell_type": "code",
      "source": [
        "type(100)"
      ],
      "metadata": {
        "id": "lun-MHYYbQpf"
      },
      "execution_count": null,
      "outputs": []
    },
    {
      "cell_type": "code",
      "source": [
        "type(-9)"
      ],
      "metadata": {
        "id": "BxxpvTtJw4Z3"
      },
      "execution_count": null,
      "outputs": []
    },
    {
      "cell_type": "code",
      "source": [
        "type(1000.99345435)"
      ],
      "metadata": {
        "id": "4ECLhQUPw60S"
      },
      "execution_count": null,
      "outputs": []
    },
    {
      "cell_type": "code",
      "source": [
        "type(-2.345)"
      ],
      "metadata": {
        "id": "r1kbsg99w7_k"
      },
      "execution_count": null,
      "outputs": []
    },
    {
      "cell_type": "code",
      "source": [
        "type('Hello World!')"
      ],
      "metadata": {
        "id": "Zk4nDlY8w9YR"
      },
      "execution_count": null,
      "outputs": []
    },
    {
      "cell_type": "code",
      "source": [
        "type('A')"
      ],
      "metadata": {
        "id": "tgTCTtKSw-wb"
      },
      "execution_count": null,
      "outputs": []
    },
    {
      "cell_type": "code",
      "source": [
        "type(True)"
      ],
      "metadata": {
        "id": "n2PnclsuxJpH"
      },
      "execution_count": null,
      "outputs": []
    },
    {
      "cell_type": "code",
      "source": [
        "type(False)"
      ],
      "metadata": {
        "id": "xtt3Ilb-xLDQ"
      },
      "execution_count": null,
      "outputs": []
    },
    {
      "cell_type": "code",
      "source": [
        "num = 99.99\n",
        "strNum = str(num)\n",
        "type(strNum)"
      ],
      "metadata": {
        "id": "0HZzWGJ7xGDP"
      },
      "execution_count": null,
      "outputs": []
    },
    {
      "cell_type": "code",
      "source": [
        "binary_value = \"1001\"\n",
        "int(binary_value, 2)"
      ],
      "metadata": {
        "id": "Lvz6t7HJILMk"
      },
      "execution_count": null,
      "outputs": []
    },
    {
      "cell_type": "markdown",
      "source": [
        "## Преобразование/кастинг типов\n",
        "- При необходимости данные необходимо преобразовать из одного типа в другой\n",
        "- Этот процесс называется приведением типа\n",
        "- используйте встроенные функции, такие как str(), int() и float()\n",
        "- **str(value)** - преобразует любое значение в строку\n",
        "- **int(value)** - преобразует числовое значение в int\n",
        "- **float(value)** - преобразует числовое значение в float"
      ],
      "metadata": {
        "id": "s6jFFYQuyRpj"
      }
    },
    {
      "cell_type": "code",
      "source": [],
      "metadata": {
        "id": "m4WDT5bEx9Hw"
      },
      "execution_count": null,
      "outputs": []
    },
    {
      "cell_type": "markdown",
      "source": [
        "## Немного про операции\n",
        "- Числовые вычисления обычно выполняются с помощью экспериментов с операторами и операндами.\n",
        "- **операторы** - это специальные маркеры/символы, которые представляют такие вычисления, как сложение, умножение и деление\n",
        "- Значения, которые использует оператор, называются **операндами**.\n",
        "- некоторые бинарные операторы, которые принимают два операнда\n",
        "    - сложение: 10 + 20\n",
        "    - вычитание: 20 - 10\n",
        "    - истинное деление: 10 / 3\n",
        "    - умножение: 7 * 9\n",
        "    - целочисленное деление: 10 // 3\n",
        "    - оператор остатка или модуля: 10 % 2\n",
        "    - Степень: 2 ** 3"
      ],
      "metadata": {
        "id": "y6QZX5fRy_jS"
      }
    },
    {
      "cell_type": "code",
      "source": [
        "1 + 2"
      ],
      "metadata": {
        "id": "SfComfgpzCYI"
      },
      "execution_count": null,
      "outputs": []
    },
    {
      "cell_type": "code",
      "source": [
        "4 * 2"
      ],
      "metadata": {
        "id": "CVKA-hwPzEF6"
      },
      "execution_count": null,
      "outputs": []
    },
    {
      "cell_type": "code",
      "source": [
        "2 ** 3"
      ],
      "metadata": {
        "id": "UKrYCkCLEklw"
      },
      "execution_count": null,
      "outputs": []
    },
    {
      "cell_type": "code",
      "source": [
        "5 / 2"
      ],
      "metadata": {
        "id": "AUWkvVy3EmOU"
      },
      "execution_count": null,
      "outputs": []
    },
    {
      "cell_type": "code",
      "source": [
        "10 // 3"
      ],
      "metadata": {
        "id": "CplJIzOgE9gC"
      },
      "execution_count": null,
      "outputs": []
    },
    {
      "cell_type": "code",
      "source": [
        "10 % 3"
      ],
      "metadata": {
        "colab": {
          "base_uri": "https://localhost:8080/"
        },
        "id": "p_BE4RnxE-53",
        "outputId": "df23b2e9-4bb1-4805-b05e-07c1d8d87ed5"
      },
      "execution_count": 1,
      "outputs": [
        {
          "output_type": "execute_result",
          "data": {
            "text/plain": [
              "1"
            ]
          },
          "metadata": {},
          "execution_count": 1
        }
      ]
    },
    {
      "cell_type": "markdown",
      "source": [
        "## Немного про операции с текстом"
      ],
      "metadata": {
        "id": "YmaWTuBzFGek"
      }
    },
    {
      "cell_type": "code",
      "source": [
        "'A' + 'B'"
      ],
      "metadata": {
        "id": "DyBQXJC_FJ11"
      },
      "execution_count": null,
      "outputs": []
    },
    {
      "cell_type": "code",
      "source": [
        "\"Сложно\" + \"подчинённый\""
      ],
      "metadata": {
        "id": "WxzDY_EJFViv"
      },
      "execution_count": null,
      "outputs": []
    },
    {
      "cell_type": "code",
      "source": [
        "'A' * 3"
      ],
      "metadata": {
        "id": "EH09RXk5FM6u"
      },
      "execution_count": null,
      "outputs": []
    },
    {
      "cell_type": "code",
      "source": [
        "'A' * 'B'"
      ],
      "metadata": {
        "id": "51veasDFFOrD"
      },
      "execution_count": null,
      "outputs": []
    },
    {
      "cell_type": "code",
      "source": [
        "n = 25\n",
        "x = 0.5\n",
        "print(n + x)\n",
        "print(n - x)\n",
        "print(n * x)\n",
        "print(n / x)\n",
        "print(n ** x)"
      ],
      "metadata": {
        "id": "f1VfPlzvFhw8"
      },
      "execution_count": null,
      "outputs": []
    },
    {
      "cell_type": "markdown",
      "source": [
        "## Операции с выводом\n",
        "- f - строки"
      ],
      "metadata": {
        "id": "i0uazrxfFmM7"
      }
    },
    {
      "cell_type": "code",
      "source": [
        "name = \"Пользователь\"\n",
        "print(f\"Добрый день, {name}.\")"
      ],
      "metadata": {
        "colab": {
          "base_uri": "https://localhost:8080/"
        },
        "id": "7neuQhm1Fl1H",
        "outputId": "0379b434-76c0-4407-e36b-ccc48a3aea6f"
      },
      "execution_count": 3,
      "outputs": [
        {
          "output_type": "stream",
          "name": "stdout",
          "text": [
            "Добрый день, Пользователь.\n"
          ]
        }
      ]
    },
    {
      "cell_type": "code",
      "source": [
        "print(f\"{123:0>9}\")\n",
        "print(f\"{123:0<9}\")\n",
        "print(f\"{123:0^9}\")"
      ],
      "metadata": {
        "colab": {
          "base_uri": "https://localhost:8080/"
        },
        "id": "5j81XwJkGawf",
        "outputId": "488043de-5ad5-4026-aa9b-abbe292e0caf"
      },
      "execution_count": 4,
      "outputs": [
        {
          "output_type": "stream",
          "name": "stdout",
          "text": [
            "000000123\n",
            "123000000\n",
            "000123000\n"
          ]
        }
      ]
    },
    {
      "cell_type": "markdown",
      "source": [
        "- \\n — переход на новую строку;\n",
        "- \\t — табуляция;\n",
        "- \\r — возврат каретки в начало строки;\n",
        "- \\b — возврат каретки на один символ."
      ],
      "metadata": {
        "id": "DB5agfUpGpSH"
      }
    },
    {
      "cell_type": "code",
      "source": [
        "print('привет \\n пользователь')"
      ],
      "metadata": {
        "colab": {
          "base_uri": "https://localhost:8080/"
        },
        "id": "P8ECoUBfGqFN",
        "outputId": "9f247380-5ab2-4f11-f7bf-58681804b593"
      },
      "execution_count": 12,
      "outputs": [
        {
          "output_type": "stream",
          "name": "stdout",
          "text": [
            "\n"
          ]
        }
      ]
    },
    {
      "cell_type": "code",
      "source": [
        "print(f\"{2 ** 0.5:.2f}\")"
      ],
      "metadata": {
        "colab": {
          "base_uri": "https://localhost:8080/"
        },
        "id": "r_Ek-k_AH3W2",
        "outputId": "500cd127-82b0-4c83-fa1b-eac0640b4c57"
      },
      "execution_count": 15,
      "outputs": [
        {
          "output_type": "stream",
          "name": "stdout",
          "text": [
            "1.41\n"
          ]
        }
      ]
    },
    {
      "cell_type": "markdown",
      "source": [
        "### Практика"
      ],
      "metadata": {
        "id": "IlUcRs2SIP6W"
      }
    },
    {
      "cell_type": "code",
      "source": [
        "#Выведите целую часть x\n",
        "x = 3.89\n",
        "x =\n",
        "print(x)"
      ],
      "metadata": {
        "colab": {
          "base_uri": "https://localhost:8080/"
        },
        "id": "WXKHMJRwHTZF",
        "outputId": "dd988a15-6948-42a4-8cc5-8399bc8f18f5"
      },
      "execution_count": 14,
      "outputs": [
        {
          "output_type": "stream",
          "name": "stdout",
          "text": [
            "3\n"
          ]
        }
      ]
    },
    {
      "cell_type": "code",
      "source": [
        "#Как изменить строчку ниже чтобы тип переменной сразу был int?\n",
        "number = input()\n",
        "type(number)"
      ],
      "metadata": {
        "id": "MvDZXW0_Hjqz"
      },
      "execution_count": null,
      "outputs": []
    },
    {
      "cell_type": "code",
      "source": [
        "#Получите предпоследнее число\n",
        "x = 1234\n",
        "y =\n",
        "print(y)"
      ],
      "metadata": {
        "id": "q-6iClPZH9sI"
      },
      "execution_count": null,
      "outputs": []
    },
    {
      "cell_type": "code",
      "source": [
        "# Напиши программу которая на вход получает имя str формата и выводит:\n",
        "# Добрый день, {имя}!\n",
        "\n"
      ],
      "metadata": {
        "id": "aoeoJ68XI_dx"
      },
      "execution_count": 16,
      "outputs": []
    },
    {
      "cell_type": "code",
      "source": [
        "#Нужно создадить программу, которая принимает одну строку и выводит её 4 раза, каждая строка на новой строке.\n",
        "\n",
        "\n",
        "\n"
      ],
      "metadata": {
        "id": "7CUnYDL-JGmJ"
      },
      "execution_count": null,
      "outputs": []
    },
    {
      "cell_type": "code",
      "source": [
        "#Нужно написать код который считает сдачу при покупке мороженного за 60 рублей\n",
        "\n"
      ],
      "metadata": {
        "id": "xoaY0asmJqUV"
      },
      "execution_count": null,
      "outputs": []
    },
    {
      "cell_type": "code",
      "source": [
        "#теперь картошки, цена которой 20 рублей/кг, на вход код должен получать вес покупки и сколько вы заплатили\n",
        "\n",
        "\n"
      ],
      "metadata": {
        "id": "qXUojHE0J28r"
      },
      "execution_count": null,
      "outputs": []
    },
    {
      "cell_type": "code",
      "source": [
        "#А теперь стоимость картошки тоже вводится, порядок ввода такой:ВЕС, Цена кг, Сколько заплатили, и все в одной строчке\n",
        "\n",
        "\n"
      ],
      "metadata": {
        "id": "-YIACrn-KEuO"
      },
      "execution_count": null,
      "outputs": []
    },
    {
      "cell_type": "code",
      "source": [
        "# теперь ваша задача печать чек, в каждой строчке вводится:\n",
        "# Имя Товара, Вес, стоимость, заплатили сколько\n",
        "# формат вывода:\n",
        "# Чек\n",
        "# <название товара> - <вес>кг - <цена>руб/кг\n",
        "# Итого: <итоговая стоимость>руб\n",
        "# Внесено: <количество денег от пользователя>руб\n",
        "# Сдача: <сдача>руб\n",
        "\n",
        "\n",
        "\n"
      ],
      "metadata": {
        "id": "ca1GEqTlKUUM"
      },
      "execution_count": 17,
      "outputs": []
    },
    {
      "cell_type": "code",
      "source": [
        "#Купи слона! Нужно вывести фразу N раз, N- вводим сами\n",
        "\n",
        "\n",
        "\n",
        "\n"
      ],
      "metadata": {
        "id": "VF83OYf0KnMx"
      },
      "execution_count": null,
      "outputs": []
    },
    {
      "cell_type": "code",
      "source": [
        "#Напишите программу, которая выводит N строк наказания. Каждая строка должна содержать текст в указанном формате, включающий часть наказания, введённую пользователем.\n",
        "# Я больше никогда не буду писать \"<часть наказания>\"!\n",
        "# На вход N и что не будете больше писать\n",
        "\n",
        "\n"
      ],
      "metadata": {
        "id": "C7406ygjLkFG"
      },
      "execution_count": null,
      "outputs": []
    },
    {
      "cell_type": "code",
      "source": [
        "# Напишите программу для робоняни, которая поможет раздать конфеты детям на новогоднем утреннике.\n",
        "#Конфеты должны быть разделены поровну между всеми детьми, а оставшиеся конфеты останутся у Деда Мороза.\n",
        "# на вход конфеты N и количество детей M"
      ],
      "metadata": {
        "id": "5IMWoPsoMEK6"
      },
      "execution_count": null,
      "outputs": []
    },
    {
      "cell_type": "code",
      "source": [
        "#напишите код который складывает копейки и выводит ответ в формате\n",
        "# x рублей y копеей в итоге!\n",
        "\n",
        "\n"
      ],
      "metadata": {
        "id": "6C3hmGrnNm2S"
      },
      "execution_count": null,
      "outputs": []
    },
    {
      "cell_type": "code",
      "source": [
        "# В группе детского сада проводится игра с шариками трёх цветов: красного, зелёного и синего. Каждый ребёнок по очереди вытаскивает один шарик из ящика.\n",
        "#Победителем становится тот, кто первым вытащит зелёный шарик.\n",
        "#Напишите программу, которая определяет максимальное количество ходов, которое потребуется, чтобы найти зелёный шарик.\n",
        "\n",
        "\n"
      ],
      "metadata": {
        "id": "-gxQ2ldeN-Fm"
      },
      "execution_count": null,
      "outputs": []
    },
    {
      "cell_type": "code",
      "source": [
        "# сложите два числа, одно из которых битовое\n",
        "\n"
      ],
      "metadata": {
        "id": "FPhKF9g2OYZ7"
      },
      "execution_count": null,
      "outputs": []
    }
  ],
  "metadata": {
    "kernelspec": {
      "display_name": "Python 3 (ipykernel)",
      "language": "python",
      "name": "python3"
    },
    "language_info": {
      "codemirror_mode": {
        "name": "ipython",
        "version": 3
      },
      "file_extension": ".py",
      "mimetype": "text/x-python",
      "name": "python",
      "nbconvert_exporter": "python",
      "pygments_lexer": "ipython3",
      "version": "3.8.12"
    },
    "colab": {
      "provenance": []
    }
  },
  "nbformat": 4,
  "nbformat_minor": 0
}