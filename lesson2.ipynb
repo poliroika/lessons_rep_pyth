{
  "cells": [
    {
      "cell_type": "markdown",
      "source": [
        "## Повторение"
      ],
      "metadata": {
        "id": "HDhlKnwdkTB4"
      }
    },
    {
      "cell_type": "code",
      "source": [
        "inputs = int(input('Введите число'))\n",
        "print('Вы ввели ', inputs, sep = '')"
      ],
      "metadata": {
        "id": "83l7iSnMkSGK"
      },
      "execution_count": null,
      "outputs": []
    },
    {
      "cell_type": "markdown",
      "source": [
        "### напиште программу которая получает на вход имяч пользователя а на выходе выдает {имя пользователя}, Добрый день!"
      ],
      "metadata": {
        "id": "XBdEYPRLl-d6"
      }
    },
    {
      "cell_type": "code",
      "source": [],
      "metadata": {
        "id": "6uFc4QOKl9jj"
      },
      "execution_count": null,
      "outputs": []
    },
    {
      "cell_type": "markdown",
      "source": [
        "### напишите программу сложения двух чилес"
      ],
      "metadata": {
        "id": "OS9Pde1umQIz"
      }
    },
    {
      "cell_type": "code",
      "source": [],
      "metadata": {
        "id": "IDlmPraAmPiM"
      },
      "execution_count": null,
      "outputs": []
    },
    {
      "cell_type": "markdown",
      "source": [
        "### Напишите программу которая решает уравнение A*x = B, на вход дается a и b"
      ],
      "metadata": {
        "id": "lwCAYyA_mad1"
      }
    },
    {
      "cell_type": "code",
      "source": [],
      "metadata": {
        "id": "LyNyrZTGmZ1F"
      },
      "execution_count": null,
      "outputs": []
    },
    {
      "cell_type": "markdown",
      "source": [
        "### Напишите программу перевода числа в бинарное"
      ],
      "metadata": {
        "id": "15Fc4JMPmqwH"
      }
    },
    {
      "cell_type": "code",
      "source": [],
      "metadata": {
        "id": "7h6M7TWnmqFE"
      },
      "execution_count": null,
      "outputs": []
    },
    {
      "cell_type": "markdown",
      "source": [
        "### найдите x\n",
        "$x = a^2 + \\sqrt{2} /b^3$"
      ],
      "metadata": {
        "id": "kxUKhLLtB79-"
      }
    },
    {
      "cell_type": "code",
      "source": [
        "a = 3\n",
        "b = 2\n",
        "x =\n",
        "print(x)"
      ],
      "metadata": {
        "id": "6yD_zzS7CNY7"
      },
      "execution_count": null,
      "outputs": []
    },
    {
      "cell_type": "markdown",
      "metadata": {
        "id": "JsVJVZackQyI"
      },
      "source": [
        "# условные операторы\n",
        "## Темы\n",
        "- условные операторы и типы\n",
        "- - операторы сравнения\n",
        "- Таблицы истинности\n",
        "\n",
        "## Условные/логические структуры\n",
        "- условные операторы управляют процессом выполнения кодов\n",
        "    - позволяет пропустить или выполнить некоторый блок кода на основе определенных условий\n",
        "    - грубо говоря, это помогает компьютеру думать и принимать решения\n",
        "- логическое значение - Истина или ложь\n",
        "- логические выражения - операторы сравнения используются для сравнения значений, которые приводят к истинности или ложности"
      ]
    },
    {
      "cell_type": "markdown",
      "metadata": {
        "id": "poXSLkfEkQyK"
      },
      "source": [
        "## Операторы сравнения\n",
        "- позволяют нам сравнивать значения данных, приводящие к истинному или ложному результату\n",
        "- это бинарные операторы; используются два операнда, в которых левая часть сравнивается с правой частью\n",
        "- **==** (равно)\n",
        "- **!=** (не равно)\n",
        "- **>** (больше)\n",
        "- **>=** (больше или равно)\n",
        "- **<** (меньше)\n",
        "- **<=** (меньше или равно)\n",
        "- операторы сравнения используются для создания условных выражений"
      ]
    },
    {
      "cell_type": "code",
      "execution_count": null,
      "metadata": {
        "id": "7wd_qS99kQyL"
      },
      "outputs": [],
      "source": [
        "#примеры\n",
        "x = 5\n",
        "y = 10"
      ]
    },
    {
      "cell_type": "code",
      "execution_count": null,
      "metadata": {
        "id": "utmvJvu2kQyM",
        "outputId": "f140f52a-55ed-4ff5-8618-4a6c50f148fb"
      },
      "outputs": [
        {
          "data": {
            "text/plain": [
              "False"
            ]
          },
          "execution_count": 3,
          "metadata": {},
          "output_type": "execute_result"
        }
      ],
      "source": [
        "\n",
        "x == y"
      ]
    },
    {
      "cell_type": "code",
      "execution_count": null,
      "metadata": {
        "id": "CFvG7-PokQyM",
        "outputId": "5b6d6312-c07f-47a6-c641-8af0851da4ac"
      },
      "outputs": [
        {
          "data": {
            "text/plain": [
              "True"
            ]
          },
          "execution_count": 4,
          "metadata": {},
          "output_type": "execute_result"
        }
      ],
      "source": [
        "x != y"
      ]
    },
    {
      "cell_type": "code",
      "execution_count": null,
      "metadata": {
        "id": "ZNxP_1RgkQyN",
        "outputId": "7dca8d73-5fda-4ee1-99df-110c73bcf3da"
      },
      "outputs": [
        {
          "data": {
            "text/plain": [
              "False"
            ]
          },
          "execution_count": 5,
          "metadata": {},
          "output_type": "execute_result"
        }
      ],
      "source": [
        "x > y"
      ]
    },
    {
      "cell_type": "code",
      "execution_count": null,
      "metadata": {
        "id": "GZtM2PhwkQyN",
        "outputId": "92b8aba4-25d0-48d9-ac41-5ea9a58e11c7"
      },
      "outputs": [
        {
          "data": {
            "text/plain": [
              "True"
            ]
          },
          "execution_count": 6,
          "metadata": {},
          "output_type": "execute_result"
        }
      ],
      "source": [
        "x < y"
      ]
    },
    {
      "cell_type": "code",
      "execution_count": null,
      "metadata": {
        "id": "ZhxHr6mGkQyN",
        "outputId": "c21b5e9d-0f07-41b2-bf16-d743f369a6bd"
      },
      "outputs": [
        {
          "data": {
            "text/plain": [
              "True"
            ]
          },
          "execution_count": 7,
          "metadata": {},
          "output_type": "execute_result"
        }
      ],
      "source": [
        "x <= y"
      ]
    },
    {
      "cell_type": "code",
      "execution_count": null,
      "metadata": {
        "id": "7DN-HBMjkQyN",
        "outputId": "8debf24d-81b5-46c8-aef8-8d99b03201f2"
      },
      "outputs": [
        {
          "data": {
            "text/plain": [
              "False"
            ]
          },
          "execution_count": 8,
          "metadata": {},
          "output_type": "execute_result"
        }
      ],
      "source": [
        "x >= y"
      ]
    },
    {
      "cell_type": "code",
      "source": [
        "letter_1 = \"t\"\n",
        "letter_2 = \"w\"\n",
        "print(letter_1 > letter_2)"
      ],
      "metadata": {
        "id": "m5S7w8VoHGw3"
      },
      "execution_count": null,
      "outputs": []
    },
    {
      "cell_type": "markdown",
      "metadata": {
        "id": "k2p_k1w4kQyN"
      },
      "source": [
        "## Условное выполнение\n",
        "- выполнение или пропуск блока кода при выполнении некоторого условия\n",
        "- - условные операторы создаются с использованием ключевого слова **if (условие) **"
      ]
    },
    {
      "cell_type": "markdown",
      "metadata": {
        "id": "hRryhz-LkQyO"
      },
      "source": [
        "## Односторонний селектор\n",
        "- просто оператор if сам по себе\n",
        "- синтаксис:\n",
        "\n",
        "``python\n",
        "if <логическое выражение> == True:\n",
        "    # выполнить этот блок кода\n",
        "```\n",
        "\n",
        "- - логическое выражение также может сравниваться с False; конечный результат сравнения должен быть True!"
      ]
    },
    {
      "cell_type": "markdown",
      "metadata": {
        "id": "lOc82jidkQyO"
      },
      "source": [
        "### [Visualize in PythonTutor.com](http://pythontutor.com/visualize.html#code=a%20%3D%20'apple'%0Aif%20a%20%3D%3D%20'apple'%3A%0A%20%20%20%20print%28'var%20a%20equals%20to%20apple'%29%0Aprint%28'continue%20execution%20here...'%29&cumulative=false&curInstr=0&heapPrimitives=false&mode=display&origin=opt-frontend.js&py=3&rawInputLstJSON=%5B%5D&textReferences=false)"
      ]
    },
    {
      "cell_type": "code",
      "execution_count": null,
      "metadata": {
        "id": "LcSDBt5dkQyO",
        "outputId": "1523f8b0-5afc-4b12-a2e1-f37d5906c11a"
      },
      "outputs": [
        {
          "name": "stdout",
          "output_type": "stream",
          "text": [
            "Hello, there!\n"
          ]
        }
      ],
      "source": [
        "if True:\n",
        "    print('Hello, there!')"
      ]
    },
    {
      "cell_type": "code",
      "execution_count": 2,
      "metadata": {
        "id": "OUcPf4lvkQyO",
        "outputId": "908a8c67-0072-4957-d0e4-de1d61bfb55c",
        "colab": {
          "base_uri": "https://localhost:8080/"
        }
      },
      "outputs": [
        {
          "output_type": "stream",
          "name": "stdout",
          "text": [
            "правда пишет\n"
          ]
        }
      ],
      "source": [
        "a = 'apple'\n",
        "if a == 'apple':\n",
        "    print('правда пишет')"
      ]
    },
    {
      "cell_type": "code",
      "execution_count": 3,
      "metadata": {
        "id": "mQynKEGxkQyO"
      },
      "outputs": [],
      "source": [
        "a = 'apple'\n",
        "if a == 'Apple':\n",
        "    print('не напишет тк. ложь')"
      ]
    },
    {
      "cell_type": "markdown",
      "metadata": {
        "id": "e9wr4e-HkQyO"
      },
      "source": [
        "## Двусторонний селектор\n",
        "\n",
        "- оператор if, за которым следует оператор else\n",
        "- синтаксис:\n",
        "\n",
        "``python\n",
        "if <логическое выражение> == True:\n",
        "    # выполните этот блок кода\n",
        "else:\n",
        "    # в противном случае выполните это\n",
        "    \n",
        "```"
      ]
    },
    {
      "cell_type": "markdown",
      "metadata": {
        "id": "S4VI0fRIkQyO"
      },
      "source": [
        "### [Visualize in PythonTutor.com](http://pythontutor.com/visualize.html#code=num1%20%3D%20100.5%0Anum2%20%3D%20100.49999999999999%0A%0Aif%20%20num1%20%3E%20num2%3A%0A%20%20%20%20print%28'%7B%7D%20is%20greater%20than%20%7B%7D'.format%28num1,%20num2%29%29%0Aelse%3A%0A%20%20%20%20print%28'%7B%7D%20is%20NOT%20greater%20than%20%7B%7D'.format%28num1,%20num2%29%29&cumulative=false&curInstr=0&heapPrimitives=false&mode=display&origin=opt-frontend.js&py=3&rawInputLstJSON=%5B%5D&textReferences=false)"
      ]
    },
    {
      "cell_type": "code",
      "execution_count": 4,
      "metadata": {
        "id": "EJga9zZxkQyO",
        "outputId": "f0b8ecf9-e328-4712-c819-a478d94327ac",
        "colab": {
          "base_uri": "https://localhost:8080/"
        }
      },
      "outputs": [
        {
          "output_type": "stream",
          "name": "stdout",
          "text": [
            "100.5 больше 100.49999999999999\n"
          ]
        }
      ],
      "source": [
        "num1 = 100.5\n",
        "num2 = 100.49999999999999\n",
        "\n",
        "if  num1 > num2:\n",
        "    print('{} больше {}'.format(num1, num2))\n",
        "else:\n",
        "    print('{} не больше {}'.format(num1, num2))"
      ]
    },
    {
      "cell_type": "code",
      "execution_count": null,
      "metadata": {
        "id": "5WIdiam4kQyP",
        "outputId": "49ce893e-4420-4839-b216-4c7d38680ad0"
      },
      "outputs": [
        {
          "name": "stdout",
          "output_type": "stream",
          "text": [
            "print 10 is NOT greater than or equal to 20\n"
          ]
        }
      ],
      "source": [
        "if 10 >= 20:\n",
        "    print ('10 больше 20')\n",
        "else:\n",
        "    print ('10 меньше 20')"
      ]
    },
    {
      "cell_type": "markdown",
      "metadata": {
        "id": "tJUocisgkQyP"
      },
      "source": [
        "## Многовариантный выбор\n",
        "- аналогично вопросам с несколькими вариантами ответов, в которых есть только один правильный ответ\n",
        "- начните с первого утверждения **if**, если ** условное выражение** оценивается как истинное, остальные **elif** и **else** игнорируются\n",
        "\n",
        "``python\n",
        "if <условие 1>:\n",
        "    # блок1\n",
        "    # выполнить это...\n",
        "elif <условие 2>:\n",
        "    # блок2\n",
        "    # выполнить это\n",
        "...\n",
        "...\n",
        "ещё:\n",
        "    # если все предыдущие условия оценены как ложные, то это альтернативный вариант!\n",
        "    # блокировка else\n",
        "    # выполнить код в этом блоке\n",
        "```"
      ]
    },
    {
      "cell_type": "code",
      "execution_count": null,
      "metadata": {
        "id": "OQloqFzckQyP",
        "outputId": "1a5eab3c-8ba0-4cfd-826f-cc90cc354f7c"
      },
      "outputs": [
        {
          "name": "stdout",
          "output_type": "stream",
          "text": [
            "Enter a number between 1-5: 2\n",
            "You entered 2\n"
          ]
        }
      ],
      "source": [
        "ans = int(input('введите число от 1 до 5 '))\n",
        "if ans == 1:\n",
        "    print('вы ввели 1')\n",
        "elif ans == 2:\n",
        "    print('вы ввели 2')\n",
        "elif ans == 3:\n",
        "    print('вы ввели 3')\n",
        "elif ans == 4:\n",
        "    print('вы ввели 4')\n",
        "elif ans == 5:\n",
        "    print('вы ввели 5')\n",
        "elif ans > 5:\n",
        "    print('вы ввели больше 5')\n",
        "else:\n",
        "    print('хм....вы ввели что то странное')"
      ]
    },
    {
      "cell_type": "markdown",
      "metadata": {
        "id": "Rmz6s1L1kQyP"
      },
      "source": [
        "### [Visualize in PythonTutor.com](https://goo.gl/ZSm9KS)"
      ]
    },
    {
      "cell_type": "markdown",
      "metadata": {
        "id": "UplmUAUokQyP"
      },
      "source": [
        "## Логические операторы\n",
        "**и**, **или** и **не** - позволяют создавать более сложные логические выражения\n",
        "\n",
        "**Таблица истинности для и**\n",
        "\n",
        "| a | b | a **и** b |\n",
        "| --- | --- | --- |\n",
        "| T | T | T |\n",
        "|T | F | F |\n",
        "|F | T | F |\n",
        "|F | F | F |\n",
        "\n",
        "\n",
        "**Таблица истинности для или**\n",
        "\n",
        "| a | b | a **или** b |\n",
        "| --- | --- | --- |\n",
        "| Т | Т | Т |\n",
        "|Т | Ф | Т |\n",
        "|Ф |Т | Т |\n",
        "|Ф | Ф | Ф |\n",
        "\n",
        "**Таблица истинности для не**\n",
        "\n",
        "|a | не a |\n",
        "|---|---|\n",
        "|T | F |\n",
        "|F | T |\n",
        "\n",
        "### Порядок вычисления операторов и выражений:\n",
        "- От самого высокого к самому низкому: http://www.informit.com/articles/article.aspx?p=459269&seqNum=11"
      ]
    },
    {
      "cell_type": "code",
      "execution_count": null,
      "metadata": {
        "id": "oDf4L9PAkQyP",
        "outputId": "93a677cf-229e-4472-bc7a-6afb37857aed"
      },
      "outputs": [
        {
          "name": "stdout",
          "output_type": "stream",
          "text": [
            "10 is even and positive\n"
          ]
        }
      ],
      "source": [
        "num = 10\n",
        "if (num%2 == 0 and num > 0):\n",
        "    print(f\"{num} больше 0 и делится на 2\")"
      ]
    },
    {
      "cell_type": "code",
      "execution_count": null,
      "metadata": {
        "id": "P2unWO86kQyP",
        "outputId": "81d6ee7c-e02c-40b9-fdeb-91e17a86b809"
      },
      "outputs": [
        {
          "name": "stdout",
          "output_type": "stream",
          "text": [
            "-14 is even and negative\n"
          ]
        }
      ],
      "source": [
        "num = -14\n",
        "if num %2 == 0 and num < 0:\n",
        "    print(f\"{num} отрицательное четное\")"
      ]
    },
    {
      "cell_type": "code",
      "execution_count": null,
      "metadata": {
        "id": "aGxTjYffkQyP",
        "outputId": "2b79b8ed-0851-4d4f-e24d-2ec4b2e26143"
      },
      "outputs": [
        {
          "name": "stdout",
          "output_type": "stream",
          "text": [
            "How much money have you saved? 100000\n",
            "Do you have a farrari? [y/yes | n/no]: yes\n",
            "Congrats!! You can retire now.\n"
          ]
        }
      ],
      "source": [
        "\n",
        "money = int(input('сколько у вас денег? '))\n",
        "ferrari = input('вы можете купить феррари? [y/yes | n/no]: ')\n",
        "if money >= 1000000 or ferrari == 'y' or ferrari == 'yes':\n",
        "    print('Вы купите ферари')\n",
        "else:\n",
        "    print('вам не нужна ферари')"
      ]
    },
    {
      "cell_type": "code",
      "execution_count": null,
      "metadata": {
        "id": "-MjHK8bkkQyP",
        "outputId": "ff740033-a2a2-422b-e7fe-8b52f6634ea4"
      },
      "outputs": [
        {
          "name": "stdout",
          "output_type": "stream",
          "text": [
            "True\n"
          ]
        }
      ],
      "source": [
        "if not False:\n",
        "    print('True')"
      ]
    },
    {
      "cell_type": "markdown",
      "metadata": {
        "id": "7yWRbESlkQyQ"
      },
      "source": [
        "## Вложенные условия\n",
        "- условные операторы могут быть вложены в другие условные операторы\n",
        "- синтаксис:\n",
        "\n",
        "``\n",
        "условие python if:\n",
        "    условие if1:\n",
        "        # сделайте что-нибудь\n",
        "    ещё:\n",
        "        # сделай что-нибудь еще\n",
        "        если условие 2:\n",
        "            # сделай что-нибудь...\n",
        "ещё:\n",
        "    # сделай это...\n",
        "```"
      ]
    },
    {
      "cell_type": "code",
      "execution_count": null,
      "metadata": {
        "id": "W3KvUe2ukQyQ",
        "outputId": "04ff1f46-22a7-40bf-fa48-bcad841ca14f"
      },
      "outputs": [
        {
          "name": "stdout",
          "output_type": "stream",
          "text": [
            "-100 is even and negative\n",
            "done\n"
          ]
        }
      ],
      "source": [
        "# program that determines if a given number is even or odd, positive or negative\n",
        "num = -100\n",
        "if num == 0:\n",
        "    print(f'{num} это ноль')\n",
        "elif num%2 == 0:\n",
        "    if num > 0:\n",
        "        print(f\"{num} это положительное четное\")\n",
        "    else:\n",
        "        print(f'{num} это отрицательное четное')\n",
        "else:\n",
        "    if num > 0:\n",
        "        print(f\"{num} нечетное положительное\")\n",
        "    else:\n",
        "        print(f'{num} отрицательное нечетное')\n",
        "\n",
        "print('готово')"
      ]
    },
    {
      "cell_type": "markdown",
      "source": [
        "### немного про клавиатуру и функции max и min и len"
      ],
      "metadata": {
        "id": "l8zTYJCcHMtO"
      }
    },
    {
      "cell_type": "code",
      "source": [
        "print(ord(\"t\"), ord(\"w\"))"
      ],
      "metadata": {
        "id": "PrXRzDPqHPJp"
      },
      "execution_count": null,
      "outputs": []
    },
    {
      "cell_type": "code",
      "source": [
        "print(chr(116), chr(119))"
      ],
      "metadata": {
        "id": "qtXU3ictHPsx"
      },
      "execution_count": null,
      "outputs": []
    },
    {
      "cell_type": "code",
      "source": [
        "m = 12\n",
        "n = 19\n",
        "k = 25\n",
        "\n",
        "# максимальное число\n",
        "print(max(m, n, k))\n",
        "\n",
        "line_1 = \"m\"\n",
        "line_2 = \"n\"\n",
        "line_3 = \"k\"\n",
        "\n",
        "# минимальная лексикографически строка\n",
        "print(min(line_1, line_2, line_3))\n",
        "\n",
        "# количество цифр в числе 2 в степени 2022\n",
        "print(len(str(2 ** 2022)))"
      ],
      "metadata": {
        "id": "X3D6h_SAHWts"
      },
      "execution_count": null,
      "outputs": []
    },
    {
      "cell_type": "markdown",
      "metadata": {
        "id": "rmMk47udkQyQ"
      },
      "source": [
        "### [Visualize in PythonTutor.com](http://pythontutor.com/visualize.html#code=num%20%3D%20-100%0Aif%20num%20%3D%3D%200%3A%0A%20%20%20%20print%28'%7B%7D%20is%20zero!'.format%28num%29%29%0Aelif%20num%252%20%3D%3D%200%3A%0A%20%20%20%20if%20num%20%3E%200%3A%0A%20%20%20%20%20%20%20%20print%28num,%20%22is%20even%20and%20positive%22%29%0A%20%20%20%20else%3A%0A%20%20%20%20%20%20%20%20print%28num,%20'is%20even%20and%20negative'%29%0Aelse%3A%0A%20%20%20%20if%20num%20%3E%200%3A%0A%20%20%20%20%20%20%20%20print%28num,%20%22is%20odd%20and%20positive%22%29%0A%20%20%20%20else%3A%0A%20%20%20%20%20%20%20%20print%28num,%20'is%20odd%20and%20negative'%29&cumulative=false&curInstr=0&heapPrimitives=false&mode=display&origin=opt-frontend.js&py=3&rawInputLstJSON=%5B%5D&textReferences=false)"
      ]
    },
    {
      "cell_type": "markdown",
      "metadata": {
        "id": "xk2vw1BjkQyQ"
      },
      "source": [
        "## Упражнения\n",
        "Упражнение 1. Напишите программу для проверки того, является ли данное целое число четным, нечетным или равным нулю."
      ]
    },
    {
      "cell_type": "code",
      "source": [],
      "metadata": {
        "id": "_ih9ZsTQG7Ma"
      },
      "execution_count": null,
      "outputs": []
    },
    {
      "cell_type": "markdown",
      "source": [
        "Упражнение 1.1 В главной велогонке года участвуют более тысячи гонщиков, которые должны пройти трассу длиной 43872 метра. Задача — определить победителя.\n",
        "\n",
        "Нам известны средние скорости двух фаворитов — Пети и Васи. Помогите узнать, кто из них пришёл к финишу первым."
      ],
      "metadata": {
        "id": "4-YdpklfH5Qg"
      }
    },
    {
      "cell_type": "code",
      "source": [],
      "metadata": {
        "id": "tnVLeDK3H8A6"
      },
      "execution_count": null,
      "outputs": []
    },
    {
      "cell_type": "markdown",
      "source": [
        "упражнение 1.2\n",
        "Три велогонщика снова хотят узнать, кто из них быстрее. Им предстоит пройти трассу длиной 43872 метра, и нам нужно определить, кто из них пришёл к финишу первым.\n",
        "\n",
        "Нам известны средние скорости трёх фаворитов — Пети, Васи и Толи. Кто из них финишировал первым?"
      ],
      "metadata": {
        "id": "Nb_CKCAlIBOL"
      }
    },
    {
      "cell_type": "code",
      "source": [],
      "metadata": {
        "id": "egZTF834IDAw"
      },
      "execution_count": null,
      "outputs": []
    },
    {
      "cell_type": "markdown",
      "source": [
        "задача1.3\n",
        "У Пети было 7 яблок, а у Васи 6.\n",
        "\n",
        "Затем Петя отдал 3 яблока Васе, а у Толи взял 2 яблока.\n",
        "\n",
        "Вася попросил у Толи 5 яблок, но отдал Гене 2.\n",
        "\n",
        "Затем Дима дал Пете\n",
        "N\n",
        "N яблок, а Васе\n",
        "M\n",
        "M.\n",
        "\n",
        "Так у кого в итоге яблок больше — у Пети или Васи?"
      ],
      "metadata": {
        "id": "EHrHlf5aIK3K"
      }
    },
    {
      "cell_type": "code",
      "source": [],
      "metadata": {
        "id": "d4fHxsF8ILic"
      },
      "execution_count": null,
      "outputs": []
    },
    {
      "cell_type": "markdown",
      "source": [
        "упражнение 2.\n",
        "Теперь напишите программу, которая сначала познакомится с пользователем, а затем поинтересуется его настроением.\n",
        "В первой строке записано имя пользователя.\n",
        "Во второй — ответ на вопрос: «хорошо» или «плохо».\n",
        "\n",
        "Формат вывода\n",
        "В первой строке должен быть вопрос «Как Вас зовут?»\n",
        "Во второй строке — «Здравствуйте, %username%!»\n",
        "В третьей строке — вопрос «Как дела?»\n",
        "В четвёртой строке реакция на ответ пользователя:\n",
        "\n",
        "если пользователь ответил «хорошо», следует вывести сообщение «Я за вас рада!»;\n",
        "если пользователь ответил «плохо», следует вывести сообщение «Всё наладится!»."
      ],
      "metadata": {
        "id": "fErpRl1XHseA"
      }
    },
    {
      "cell_type": "code",
      "source": [],
      "metadata": {
        "id": "fJByrGJZIALY"
      },
      "execution_count": null,
      "outputs": []
    },
    {
      "cell_type": "markdown",
      "metadata": {
        "id": "1wNkyQ7TkQyY"
      },
      "source": [
        "Упражнение 3. Напишите программу, которая преобразует значение оценки учащихся (0-100) в соответствующую буквенную оценку (A-F), где\n",
        "    \n",
        "`\n",
        "90 и выше - это A\n",
        "на основе 80 и выше\n",
        "70 и выше - это C\n",
        "на основе 60 и выше\n",
        "59 и ниже предназначены для\n",
        "`\n",
        "\n",
        "Напишите тестовые примеры для проверки каждого результата."
      ]
    },
    {
      "cell_type": "code",
      "source": [],
      "metadata": {
        "id": "IlbHfgg_G7tB"
      },
      "execution_count": null,
      "outputs": []
    },
    {
      "cell_type": "markdown",
      "metadata": {
        "id": "iH5aEBuWkQyY"
      },
      "source": [
        "Упражнение 4. Напишите программу, которая поможет кому-нибудь решить, куда пойти пообедать, в зависимости от количества денег в кармане."
      ]
    },
    {
      "cell_type": "code",
      "source": [],
      "metadata": {
        "id": "ZYmCdlO7G8IU"
      },
      "execution_count": null,
      "outputs": []
    },
    {
      "cell_type": "markdown",
      "metadata": {
        "id": "QEHJwgWxkQyY"
      },
      "source": [
        "Упражнение 5. Задав день недели в виде целого числа (скажем, 1 для воскресенья), напишите программу, которая сообщает, является ли этот день выходным или будним днем, и фактическое название дня."
      ]
    },
    {
      "cell_type": "code",
      "source": [],
      "metadata": {
        "id": "G_D9o2G7G8lt"
      },
      "execution_count": null,
      "outputs": []
    },
    {
      "cell_type": "markdown",
      "source": [
        "задача 6.\n",
        "Согласно одному древнему поверью, трёхзначное число считается красивым, если сумма его минимальной и максимальной цифр равна удвоенной средней цифре, то есть умноженной на 2.\n",
        "\n",
        "Напишите программу, которая проверяет, является ли число красивым."
      ],
      "metadata": {
        "id": "OBQqxF8kIS5z"
      }
    },
    {
      "cell_type": "code",
      "execution_count": null,
      "metadata": {
        "id": "4geQmIKwkQyZ"
      },
      "outputs": [],
      "source": []
    }
  ],
  "metadata": {
    "kernelspec": {
      "display_name": "Python 3",
      "language": "python",
      "name": "python3"
    },
    "language_info": {
      "codemirror_mode": {
        "name": "ipython",
        "version": 3
      },
      "file_extension": ".py",
      "mimetype": "text/x-python",
      "name": "python",
      "nbconvert_exporter": "python",
      "pygments_lexer": "ipython3",
      "version": "3.8.3"
    },
    "colab": {
      "provenance": []
    }
  },
  "nbformat": 4,
  "nbformat_minor": 0
}
